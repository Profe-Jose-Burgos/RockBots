{
 "cells": [
  {
   "attachments": {},
   "cell_type": "markdown",
   "metadata": {},
   "source": [
    "# creacion de base de datos"
   ]
  },
  {
   "cell_type": "code",
   "execution_count": 4,
   "metadata": {},
   "outputs": [
    {
     "ename": "OperationalError",
     "evalue": "table paquetes already exists",
     "output_type": "error",
     "traceback": [
      "\u001b[1;31m---------------------------------------------------------------------------\u001b[0m",
      "\u001b[1;31mOperationalError\u001b[0m                          Traceback (most recent call last)",
      "\u001b[1;32m~\\AppData\\Local\\Temp\\ipykernel_13012\\3206556369.py\u001b[0m in \u001b[0;36m<module>\u001b[1;34m\u001b[0m\n\u001b[0;32m      5\u001b[0m \u001b[0mc\u001b[0m \u001b[1;33m=\u001b[0m \u001b[0mconn\u001b[0m\u001b[1;33m.\u001b[0m\u001b[0mcursor\u001b[0m\u001b[1;33m(\u001b[0m\u001b[1;33m)\u001b[0m\u001b[1;33m\u001b[0m\u001b[1;33m\u001b[0m\u001b[0m\n\u001b[0;32m      6\u001b[0m \u001b[1;33m\u001b[0m\u001b[0m\n\u001b[1;32m----> 7\u001b[1;33m c.execute('''CREATE TABLE paquetes\n\u001b[0m\u001b[0;32m      8\u001b[0m                  (id INTEGER PRIMARY KEY, nombre TEXT, descripcion, fecha_envio DATE)''')\n\u001b[0;32m      9\u001b[0m \u001b[1;33m\u001b[0m\u001b[0m\n",
      "\u001b[1;31mOperationalError\u001b[0m: table paquetes already exists"
     ]
    }
   ],
   "source": [
    "import sqlite3\n",
    "\n",
    "conn = sqlite3.connect('paquetes.db')\n",
    "\n",
    "c = conn.cursor()\n",
    "  \n",
    "c.execute('''CREATE TABLE paquetes\n",
    "                 (id INTEGER PRIMARY KEY, nombre TEXT, descripcion, fecha_envio DATE)''')\n",
    "   \n",
    "conn.commit()\n",
    "\n",
    "conn.close()\n"
   ]
  },
  {
   "cell_type": "code",
   "execution_count": 5,
   "metadata": {},
   "outputs": [
    {
     "name": "stdout",
     "output_type": "stream",
     "text": [
      "Bases de datos creado\n"
     ]
    }
   ],
   "source": [
    "conn = sqlite3.connect('Calendario_citas.db')\n",
    "\n",
    "# Create a cursor object\n",
    "cursor = conn.cursor()\n",
    "\n",
    "# Check if the table already exists\n",
    "cursor.execute(\"SELECT name FROM sqlite_master WHERE type='table' AND name='Citas'\")\n",
    "if cursor.fetchone() is None:\n",
    "    # Create the COMPANY table\n",
    "    cursor.execute('''CREATE TABLE Citas\n",
    "                    (id_cita TEXT NOT NULL,\n",
    "                    calendar_id TEXT NOT NULL,\n",
    "                    modalidad TEXT NOT NULL,\n",
    "                    servicio TEXT NOT NULL,\n",
    "                    nombre TEXT NOT NULL,\n",
    "                    description TEXT NOT NULL,\n",
    "                    hora_de_inicio INTEGER,\n",
    "                    hora_finalizacion INTEGER,\n",
    "                    correo TEXT NOT NULL);''')\n",
    "\n",
    "    print(\"Bases de datos creado\")\n",
    "else:\n",
    "    print(\"Tabla ya existe\")\n",
    "conn.close()"
   ]
  },
  {
   "attachments": {},
   "cell_type": "markdown",
   "metadata": {},
   "source": [
    "# Seccion para manipular base de datos"
   ]
  },
  {
   "attachments": {},
   "cell_type": "markdown",
   "metadata": {},
   "source": [
    "### Cambiar nombre de columnas"
   ]
  },
  {
   "attachments": {},
   "cell_type": "markdown",
   "metadata": {},
   "source": [
    "### Agregar columna"
   ]
  },
  {
   "cell_type": "code",
   "execution_count": 5,
   "metadata": {},
   "outputs": [],
   "source": [
    "conn = sqlite3.connect('paquetes.db')\n",
    "c = conn.cursor()\n",
    "c.execute(\"ALTER TABLE paquetes ADD COLUMN precio REAL\")\n",
    "conn.commit()\n",
    "conn.close()"
   ]
  },
  {
   "attachments": {},
   "cell_type": "markdown",
   "metadata": {},
   "source": [
    "### Eliminar colunma"
   ]
  },
  {
   "cell_type": "code",
   "execution_count": 6,
   "metadata": {},
   "outputs": [],
   "source": [
    "conn = sqlite3.connect('paquetes.db')\n",
    "c = conn.cursor()\n",
    "c.execute(\"ALTER TABLE paquetes DROP COLUMN fecha_envio\")\n",
    "conn.commit()\n",
    "conn.close()\n"
   ]
  },
  {
   "attachments": {},
   "cell_type": "markdown",
   "metadata": {},
   "source": [
    "### Agregar dato"
   ]
  },
  {
   "cell_type": "code",
   "execution_count": 7,
   "metadata": {},
   "outputs": [],
   "source": [
    "conn = sqlite3.connect('paquetes.db')\n",
    "c = conn.cursor()\n",
    "c.execute(\"INSERT INTO paquetes (id, paquetes, descripcion, precio) \\\n",
    "    VALUES ( 0004, 'caja 16 in', 'no mas de 25 lb', 104.00)\")\n",
    "\n",
    "c.execute(\"INSERT INTO paquetes (id, paquetes, descripcion, precio) \\\n",
    "    VALUES ( 0005, 'caja 18 in', 'no mas de 30 lb', 155.00)\")\n",
    "\n",
    "c.execute(\"INSERT INTO paquetes (id, paquetes, descripcion, precio) \\\n",
    "    VALUES ( 0006, 'caja 20 in', 'no mas de 35 lb', 184.00)\")\n",
    "\n",
    "c.execute(\"INSERT INTO paquetes (id, paquetes, descripcion, precio) \\\n",
    "    VALUES ( 0007, 'caja 22 in', 'no mas de 40 lb', 205.00)\")\n",
    "\n",
    "c.execute(\"INSERT INTO paquetes (id, paquetes, descripcion, precio) \\\n",
    "    VALUES ( 0008, 'Mensajeria', 'Local', 40.00)\")\n",
    "\n",
    "conn.commit()\n",
    "conn.close()\n"
   ]
  },
  {
   "attachments": {},
   "cell_type": "markdown",
   "metadata": {},
   "source": [
    "### Verificar el tipo de data de una columna"
   ]
  },
  {
   "cell_type": "code",
   "execution_count": 8,
   "metadata": {},
   "outputs": [
    {
     "name": "stdout",
     "output_type": "stream",
     "text": [
      "(0, 'id', 'INTEGER', 0, None, 1)\n",
      "(1, 'paquetes', 'TEXT', 0, None, 0)\n",
      "(2, 'descripcion', '', 0, None, 0)\n",
      "(3, 'precio', 'REAL', 0, None, 0)\n"
     ]
    }
   ],
   "source": [
    "conn = sqlite3.connect('paquetes.db')\n",
    "c = conn.cursor()\n",
    "c.execute(\"PRAGMA TABLE_INFO(paquetes)\")\n",
    "result = c.fetchall()\n",
    "for r in result:\n",
    "    print(r)\n"
   ]
  },
  {
   "attachments": {},
   "cell_type": "markdown",
   "metadata": {},
   "source": [
    "### Imprimir datos"
   ]
  },
  {
   "cell_type": "code",
   "execution_count": 9,
   "metadata": {},
   "outputs": [
    {
     "name": "stdout",
     "output_type": "stream",
     "text": [
      "(4, 'caja 16 in', 'no mas de 25 lb', 104.0)\n",
      "(5, 'caja 18 in', 'no mas de 30 lb', 155.0)\n",
      "(6, 'caja 20 in', 'no mas de 35 lb', 184.0)\n",
      "(7, 'caja 22 in', 'no mas de 40 lb', 205.0)\n",
      "(8, 'Mensajeria', 'Local', 40.0)\n"
     ]
    }
   ],
   "source": [
    "import sqlite3\n",
    "conn = sqlite3.connect('paquetes.db')\n",
    "c = conn.cursor()\n",
    "c.execute(\"SELECT * FROM paquetes\")\n",
    "\n",
    "result = c.fetchall()\n",
    "\n",
    "for row in result:\n",
    "    print(row)\n",
    "conn.close()\n"
   ]
  },
  {
   "attachments": {},
   "cell_type": "markdown",
   "metadata": {},
   "source": [
    "### Dos decimales"
   ]
  },
  {
   "cell_type": "code",
   "execution_count": 10,
   "metadata": {},
   "outputs": [
    {
     "name": "stdout",
     "output_type": "stream",
     "text": [
      "(104.0,)\n",
      "(155.0,)\n",
      "(184.0,)\n",
      "(205.0,)\n",
      "(40.0,)\n"
     ]
    }
   ],
   "source": [
    "conn = sqlite3.connect('paquetes.db')\n",
    "c = conn.cursor()\n",
    "c.execute(\"SELECT round(precio, 2) as precio FROM paquetes\")\n",
    "result = c.fetchall()\n",
    "\n",
    "for row in result:\n",
    "    print(row)\n",
    "\n",
    "conn.close()\n"
   ]
  },
  {
   "attachments": {},
   "cell_type": "markdown",
   "metadata": {},
   "source": [
    "### Eliminar fila por ID"
   ]
  },
  {
   "cell_type": "code",
   "execution_count": 11,
   "metadata": {},
   "outputs": [],
   "source": [
    "conn = sqlite3.connect('paquetes.db')\n",
    "c = conn.cursor()\n",
    "c.execute(\"DELETE FROM paquetes WHERE id = 3\")\n",
    "conn.commit()\n",
    "\n",
    "conn.close()\n"
   ]
  },
  {
   "attachments": {},
   "cell_type": "markdown",
   "metadata": {},
   "source": [
    "## Operaciones logicas"
   ]
  },
  {
   "attachments": {},
   "cell_type": "markdown",
   "metadata": {},
   "source": [
    "### Suma"
   ]
  },
  {
   "cell_type": "code",
   "execution_count": 15,
   "metadata": {},
   "outputs": [
    {
     "ename": "TypeError",
     "evalue": "'NoneType' object is not subscriptable",
     "output_type": "error",
     "traceback": [
      "\u001b[1;31m---------------------------------------------------------------------------\u001b[0m",
      "\u001b[1;31mTypeError\u001b[0m                                 Traceback (most recent call last)",
      "\u001b[1;32m~\\AppData\\Local\\Temp\\ipykernel_13804\\2455946792.py\u001b[0m in \u001b[0;36m<module>\u001b[1;34m\u001b[0m\n\u001b[0;32m      6\u001b[0m \u001b[0mc\u001b[0m\u001b[1;33m.\u001b[0m\u001b[0mexecute\u001b[0m\u001b[1;33m(\u001b[0m\u001b[1;34m\"SELECT precio FROM paquetes WHERE id = 8\"\u001b[0m\u001b[1;33m)\u001b[0m\u001b[1;33m\u001b[0m\u001b[1;33m\u001b[0m\u001b[0m\n\u001b[0;32m      7\u001b[0m \u001b[0mresult2\u001b[0m \u001b[1;33m=\u001b[0m \u001b[0mc\u001b[0m\u001b[1;33m.\u001b[0m\u001b[0mfetchone\u001b[0m\u001b[1;33m(\u001b[0m\u001b[1;33m)\u001b[0m\u001b[1;33m\u001b[0m\u001b[1;33m\u001b[0m\u001b[0m\n\u001b[1;32m----> 8\u001b[1;33m \u001b[0mresult\u001b[0m \u001b[1;33m=\u001b[0m \u001b[0mresult1\u001b[0m\u001b[1;33m[\u001b[0m\u001b[1;36m0\u001b[0m\u001b[1;33m]\u001b[0m\u001b[1;33m+\u001b[0m\u001b[0mresult2\u001b[0m\u001b[1;33m[\u001b[0m\u001b[1;36m0\u001b[0m\u001b[1;33m]\u001b[0m\u001b[1;33m\u001b[0m\u001b[1;33m\u001b[0m\u001b[0m\n\u001b[0m\u001b[0;32m      9\u001b[0m \u001b[1;33m\u001b[0m\u001b[0m\n\u001b[0;32m     10\u001b[0m \u001b[0mprint\u001b[0m\u001b[1;33m(\u001b[0m\u001b[0mresult\u001b[0m\u001b[1;33m)\u001b[0m\u001b[1;33m\u001b[0m\u001b[1;33m\u001b[0m\u001b[0m\n",
      "\u001b[1;31mTypeError\u001b[0m: 'NoneType' object is not subscriptable"
     ]
    }
   ],
   "source": [
    "conn = sqlite3.connect('paquetes.db')\n",
    "c = conn.cursor()\n",
    "c.execute(\"SELECT precio FROM paquetes WHERE id = 1\")\n",
    "result1 = c.fetchone()\n",
    "\n",
    "c.execute(\"SELECT precio FROM paquetes WHERE id = 8\")\n",
    "result2 = c.fetchone()\n",
    "result = result1[0]+result2[0]\n",
    "\n",
    "print(result)\n",
    "\n",
    "conn.close()\n"
   ]
  }
 ],
 "metadata": {
  "kernelspec": {
   "display_name": "base",
   "language": "python",
   "name": "python3"
  },
  "language_info": {
   "codemirror_mode": {
    "name": "ipython",
    "version": 3
   },
   "file_extension": ".py",
   "mimetype": "text/x-python",
   "name": "python",
   "nbconvert_exporter": "python",
   "pygments_lexer": "ipython3",
   "version": "3.9.13 (main, Aug 25 2022, 23:51:50) [MSC v.1916 64 bit (AMD64)]"
  },
  "orig_nbformat": 4,
  "vscode": {
   "interpreter": {
    "hash": "126b1b7efcf4401b43642f4968bf3fdff098c6cd8155007bf473fd2bb554bb42"
   }
  }
 },
 "nbformat": 4,
 "nbformat_minor": 2
}
