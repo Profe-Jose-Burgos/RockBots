{
 "cells": [
  {
   "attachments": {},
   "cell_type": "markdown",
   "metadata": {},
   "source": [
    "# Verificar si existe la cita en la base datos"
   ]
  },
  {
   "cell_type": "code",
   "execution_count": 10,
   "metadata": {},
   "outputs": [
    {
     "name": "stdout",
     "output_type": "stream",
     "text": [
      "No se ha encontrado alguna cita registrada con el ID proporcionado\n"
     ]
    }
   ],
   "source": [
    "import sqlite3\n",
    "\n",
    "def verificar_descripcion(id_citas):\n",
    "    # Conectarse a la base de datos\n",
    "    conn = sqlite3.connect('Calendario_citas.db')\n",
    "    c = conn.cursor()\n",
    "\n",
    "    # Verificar si la descripcion existe en la tabla\n",
    "    c.execute(\"SELECT COUNT(*) FROM Citas WHERE id_cita = ?\", (id_citas,))\n",
    "    existe = c.fetchone()[0]\n",
    "\n",
    "    # Cerrar conexión a la base de datos\n",
    "    conn.close()\n",
    "\n",
    "    # Devolver resultado\n",
    "    if existe > 0:\n",
    "        return \"Cita encontrada exitosamente\"\n",
    "        \n",
    "    else:\n",
    "        return \"No se ha encontrado alguna cita registrada con el ID proporcionado\"\n",
    "\n",
    "# Ejemplo de uso\n",
    "id_citas = input(\"Ingrese el ID a verificar\")\n",
    "resultado = verificar_descripcion(id_citas)\n",
    "print(resultado)\n"
   ]
  },
  {
   "attachments": {},
   "cell_type": "markdown",
   "metadata": {},
   "source": [
    "# Version 2, imprimiendo la data completa"
   ]
  },
  {
   "cell_type": "code",
   "execution_count": 13,
   "metadata": {},
   "outputs": [
    {
     "name": "stdout",
     "output_type": "stream",
     "text": [
      "La fila es: (1,)\n"
     ]
    }
   ],
   "source": [
    "\n",
    "\n",
    "def verificar_descripcion(id_citas):\n",
    "\n",
    "    conn = sqlite3.connect('Calendario_citas.db')\n",
    "    c = conn.cursor()\n",
    "    c.execute(\"SELECT COUNT(*) FROM Citas WHERE id_cita = ?\", (id_citas,))\n",
    "    #c.execute(\"SELECT * FROM  Citas WHERE id_cita ?\", (id_citas,))\n",
    "    fila = c.fetchone()\n",
    "\n",
    "    conn.close()\n",
    "\n",
    "    if fila:\n",
    "        print(f\"La fila es: {fila}\")\n",
    "        print(row)\n",
    "    else:\n",
    "        print(\"La descripcion no existe en la tabla\")\n",
    "\n",
    "# Ejemplo de uso\n",
    "id_citas = input(\"Ingrese la descripcion a verificar: \")\n",
    "verificar_descripcion(id_citas)\n"
   ]
  },
  {
   "attachments": {},
   "cell_type": "markdown",
   "metadata": {},
   "source": [
    "# Version 3"
   ]
  },
  {
   "cell_type": "code",
   "execution_count": 24,
   "metadata": {},
   "outputs": [
    {
     "name": "stdout",
     "output_type": "stream",
     "text": [
      "Servicio solicitado: Atención al cliente\n",
      "Nombre: Ana\n",
      "Fecha agendada: 2023-05-25 09:00:00\n"
     ]
    }
   ],
   "source": [
    "import sqlite3\n",
    "\n",
    "def verificar_id(id):\n",
    " \n",
    "    conn = sqlite3.connect('Calendario_citas.db')\n",
    "    c = conn.cursor()\n",
    "\n",
    "    c.execute(\"SELECT servicio, nombre, hora_de_inicio, hora_finalizacion FROM Citas WHERE id_cita = ?\", (id,))\n",
    "    fila = c.fetchone()\n",
    "\n",
    "    conn.close()\n",
    "    if fila:\n",
    "        print(f\"Servicio solicitado: {fila[0]}\")\n",
    "        print(f\"Nombre: {fila[1]}\")\n",
    "        print(f\"Fecha agendada: {fila[2]}\")\n",
    "    else:\n",
    "        print(\"El id no existe en la tabla\")\n",
    "\n",
    "# Ejemplo de uso\n",
    "id = input(\"Ingrese el id a verificar: \")\n",
    "verificar_id(id)\n"
   ]
  }
 ],
 "metadata": {
  "kernelspec": {
   "display_name": "base",
   "language": "python",
   "name": "python3"
  },
  "language_info": {
   "codemirror_mode": {
    "name": "ipython",
    "version": 3
   },
   "file_extension": ".py",
   "mimetype": "text/x-python",
   "name": "python",
   "nbconvert_exporter": "python",
   "pygments_lexer": "ipython3",
   "version": "3.9.13 (main, Aug 25 2022, 23:51:50) [MSC v.1916 64 bit (AMD64)]"
  },
  "orig_nbformat": 4,
  "vscode": {
   "interpreter": {
    "hash": "126b1b7efcf4401b43642f4968bf3fdff098c6cd8155007bf473fd2bb554bb42"
   }
  }
 },
 "nbformat": 4,
 "nbformat_minor": 2
}
