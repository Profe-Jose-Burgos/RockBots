{
 "cells": [
  {
   "cell_type": "code",
   "execution_count": 1,
   "metadata": {},
   "outputs": [
    {
     "name": "stdout",
     "output_type": "stream",
     "text": [
      "La cotizacion es:  88.0\n"
     ]
    }
   ],
   "source": [
    "import sqlite3\n",
    "\n",
    "def cotizacion(id1, id2):\n",
    "    # Conectarse a la base de datos\n",
    "    conn = sqlite3.connect('paquetes.db')\n",
    "    c = conn.cursor()\n",
    "\n",
    "    # Obtener suma de precios de los id especificados\n",
    "    c.execute(\"SELECT SUM(precio) FROM paquetes WHERE id in (?,?)\", (id1, id2))\n",
    "    cotizacion = c.fetchone()[0]\n",
    "\n",
    "    # Cerrar conexión a la base de datos\n",
    "    conn.close()\n",
    "\n",
    "    # Devolver cotización\n",
    "    return cotizacion\n",
    "\n",
    "# Ejemplo de uso\n",
    "cotizacion1 = cotizacion(1,8)\n",
    "print(\"La cotizacion es: \",cotizacion1)\n"
   ]
  }
 ],
 "metadata": {
  "kernelspec": {
   "display_name": "base",
   "language": "python",
   "name": "python3"
  },
  "language_info": {
   "codemirror_mode": {
    "name": "ipython",
    "version": 3
   },
   "file_extension": ".py",
   "mimetype": "text/x-python",
   "name": "python",
   "nbconvert_exporter": "python",
   "pygments_lexer": "ipython3",
   "version": "3.9.13 (main, Aug 25 2022, 23:51:50) [MSC v.1916 64 bit (AMD64)]"
  },
  "orig_nbformat": 4,
  "vscode": {
   "interpreter": {
    "hash": "126b1b7efcf4401b43642f4968bf3fdff098c6cd8155007bf473fd2bb554bb42"
   }
  }
 },
 "nbformat": 4,
 "nbformat_minor": 2
}
