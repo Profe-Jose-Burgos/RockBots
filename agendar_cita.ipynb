{
 "cells": [
  {
   "cell_type": "code",
   "execution_count": null,
   "metadata": {},
   "outputs": [],
   "source": [
    "import string\n",
    "import random\n",
    "import string\n",
    "import pickle\n",
    "from string import ascii_letters\n",
    "from apiclient.discovery import build\n",
    "from google_auth_oauthlib.flow import InstalledAppFlow\n",
    "import sqlite3\n",
    "from datetime import datetime,timedelta\n",
    "import pandas as pd\n",
    "from chatbot_respuesta import *"
   ]
  },
  {
   "cell_type": "markdown",
   "metadata": {},
   "source": [
    "CREAR TOKEN"
   ]
  },
  {
   "cell_type": "code",
   "execution_count": null,
   "metadata": {},
   "outputs": [],
   "source": [
    "scopes=['https://www.googleapis.com/auth/calendar']\n",
    "flow=InstalledAppFlow.from_client_secrets_file('CREDENTIAL.json',scopes=scopes)"
   ]
  },
  {
   "cell_type": "code",
   "execution_count": null,
   "metadata": {},
   "outputs": [],
   "source": [
    "credentials=pickle.load(open('token.pkl','rb'))\n",
    "service=build('calendar','v3',credentials=credentials)"
   ]
  },
  {
   "cell_type": "code",
   "execution_count": null,
   "metadata": {},
   "outputs": [],
   "source": [
    "##Crear bases de datos\n",
    "\n",
    "import sqlite3\n",
    "\n",
    "\n",
    "conn = sqlite3.connect('Calendario_citas.db')\n",
    "\n",
    "cursor = conn.cursor()\n",
    "\n",
    "cursor.execute(\"SELECT name FROM sqlite_master WHERE type='table' AND name='Citas'\")\n",
    "if cursor.fetchone() is None:\n",
    "    # Create the COMPANY table\n",
    "    cursor.execute('''CREATE TABLE Citas\n",
    "                    (id_cita TEXT NOT NULL,\n",
    "                    calendar_id TEXT NOT NULL,\n",
    "                    servicio TEXT NOT NULL,\n",
    "                    nombre TEXT NOT NULL,\n",
    "                    description TEXT NOT NULL,\n",
    "                    hora_de_inicio INTEGER,\n",
    "                    hora_finalizacion INTEGER,\n",
    "                    correo TEXT NOT NULL);''')\n",
    "\n",
    "    print(\"Bases de datos creado\")\n",
    "else:\n",
    "    print(\"Table already exists\")\n",
    "conn.close()"
   ]
  },
  {
   "attachments": {},
   "cell_type": "markdown",
   "metadata": {},
   "source": [
    "PROCESO DE AGENDAR CITAS"
   ]
  },
  {
   "cell_type": "code",
   "execution_count": null,
   "metadata": {},
   "outputs": [],
   "source": [
    "def range_alpha(start_letter, end_letter):\n",
    "    return ascii_letters[\n",
    "    ascii_letters.index(start_letter):ascii_letters.index(end_letter) + 1\n",
    "  ]\n",
    "\n",
    "def codigo_cita():\n",
    "    letras=range_alpha('a', 'v')\n",
    "    characters = letras + string.digits \n",
    "    cita_id = ''.join(random.choice(characters) for i in range(8))\n",
    "    return cita_id+'5'\n",
    "\n",
    "\n",
    "def mostrarDatos(dictinfo, msgconf):\n",
    "    print(msgconf,'\\n')\n",
    "    for key in dictinfo.keys():    \n",
    "        print(key, ':', dictinfo[key])"
   ]
  },
  {
   "cell_type": "code",
   "execution_count": null,
   "metadata": {},
   "outputs": [],
   "source": [
    "def getInfo(msgInicial, listaConsultas, servicio):\n",
    "    print(msgInicial)\n",
    "    for i, pregChat in enumerate(listaConsultas):\n",
    "        print(pregChat)\n",
    "        entradaUsuario = input()\n",
    "        if i ==0:\n",
    "            nombre = entradaUsuario\n",
    "            \n",
    "        if i ==1:\n",
    "            fecha = str(entradaUsuario+' ')\n",
    "            \n",
    "        if i ==2:\n",
    "            hora = str(entradaUsuario+':00')\n",
    "            fecha= fecha+hora\n",
    "            start_time= datetime.strptime(fecha, \"%d/%m/%Y %H:%M:%S\")\n",
    "            end_time=start_time+timedelta(hours=1)\n",
    "\n",
    "        if i ==3:\n",
    "            correo = entradaUsuario  \n",
    "        if i ==4:\n",
    "            description = entradaUsuario \n",
    "\n",
    "    return {'nombre':nombre, 'descripcion':description, 'hora_de_inicio':start_time, 'hora_finalización':end_time,'correo':correo}\n",
    "            \n",
    "msgInicial = \"Para consultar disponibilidad indiquenos los siguientes datos:\"\n",
    "listaConsultas = ['por favor indiqueme el nombre','Ingrese fecha en formato *DD/MM/AAAA* ','Ingrese hora en formato de 24 horas *hora:min*','Ingrese su correo electrónico','Porqué está agendando esta cita?']\n"
   ]
  },
  {
   "cell_type": "code",
   "execution_count": null,
   "metadata": {},
   "outputs": [],
   "source": [
    "def crear_evento(nombre,servicio,id_cita,description,start_time,end_time,correo,calendar_id):\n",
    "    event = { \n",
    "        'summary': (nombre + '  servicio: ' + servicio),\n",
    "        'id':id_cita,\n",
    "          'location': 'Local NO. 3,Town Center, Costa del Este, Ciudad de Panamá',\n",
    "          'description': description,\n",
    "          'start': {\n",
    "            'dateTime': start_time.strftime('%Y-%m-%dT%H:%M:%S'),\n",
    "            'timeZone': 'America/Panama',\n",
    "          },\n",
    "          'end': {\n",
    "            'dateTime': end_time.strftime('%Y-%m-%dT%H:%M:%S'),\n",
    "            'timeZone': 'America/Panama',\n",
    "          },\n",
    "          'attendees': [\n",
    "            {'email': correo}\n",
    "          ],\n",
    "          'reminders': {\n",
    "            'useDefault': False,\n",
    "            'overrides': [\n",
    "              {'method': 'email', 'minutes': 24 * 60},\n",
    "              {'method': 'popup', 'minutes': 10},\n",
    "            ],\n",
    "          },\n",
    "        }\n",
    "    service.events().insert(calendarId=calendar_id, body=event).execute()"
   ]
  },
  {
   "cell_type": "code",
   "execution_count": null,
   "metadata": {},
   "outputs": [],
   "source": [
    "def aggdatos_sql(datos):\n",
    "    conn = sqlite3.connect('Calendario_citas.db')\n",
    "    cursor = conn.cursor()\n",
    "    ingresar= cursor.execute(\"INSERT INTO Citas VALUES (:id_cita, :calendar_id,:servicio, :nombre,:descripcion,:hora_de_inicio,:hora_finalización,:correo)\", infoCita) \n",
    "    conn.commit()\n",
    "    conn.close()\n",
    "    return ingresar"
   ]
  },
  {
   "cell_type": "code",
   "execution_count": null,
   "metadata": {},
   "outputs": [],
   "source": [
    "def confirmar_datos(intencion,infoCita,servicio,calendar_id):\n",
    "    if intencion=='Afirmación' :\n",
    "            id_citas= codigo_cita()\n",
    "            infoCita['id_cita']=id_citas\n",
    "            infoCita['calendar_id']=calendar_id\n",
    "            crear_evento(infoCita['nombre'],servicio,id_citas,infoCita['descripcion'],infoCita['hora_de_inicio'],infoCita['hora_finalización'],infoCita['correo'],infoCita['calendar_id'])\n",
    "            aggdatos_sql(infoCita)\n",
    "            print('Su cita ha sido agendada con éxito, en que más puedo ayudarte?, su id de cita es: ',id_citas )\n",
    "    elif intencion=='Negación':\n",
    "            print('Ok, cita no agendada. En que más puedo ayudarte?')\n"
   ]
  },
  {
   "cell_type": "code",
   "execution_count": null,
   "metadata": {},
   "outputs": [],
   "source": [
    "id_asesoria='longstoryshort51@gmail.com'\n",
    "id_atencióncliente='1e8f7a6f98f1ef21fe6c91c81f4bf84ea6715d776b3621517fb74a04fec2badd@group.calendar.google.com'"
   ]
  },
  {
   "attachments": {},
   "cell_type": "markdown",
   "metadata": {},
   "source": [
    "PRUEBA"
   ]
  },
  {
   "cell_type": "code",
   "execution_count": null,
   "metadata": {},
   "outputs": [],
   "source": [
    "entradaUsuario = ''\n",
    "intencion_previa = ''\n",
    "msgconf = 'Para terminar el proceso de agendar su cita, confirme que los datos ingresados son correctos.'\n",
    "\n",
    "while entradaUsuario != 'exit':\n",
    "    entradaUsuario = input()\n",
    "    respuesta, intencion = chatbot_respuesta(entradaUsuario)\n",
    "  \n",
    "    respuesta, intencion = chatbot_respuesta(entradaUsuario)  \n",
    "    if intencion_previa =='Asesoría' and entradaUsuario == '1':\n",
    "                servicio='Asesoría'\n",
    "                calendar_id=id_asesoria\n",
    "                infoCita = getInfo(msgInicial, listaConsultas, servicio)\n",
    "                infoCita['servicio']=servicio\n",
    "                mostrarDatos(infoCita, msgconf)\n",
    "                entradaUsuario = input()\n",
    "                respuesta, intencion = chatbot_respuesta(entradaUsuario)\n",
    "                confirmar_datos(intencion,infoCita,servicio,calendar_id)\n",
    "\n",
    "\n",
    "    elif intencion_previa =='Agendar cita' and entradaUsuario == '2':\n",
    "                servicio='Asesoría'\n",
    "                calendar_id=id_atencióncliente\n",
    "                infoCita = getInfo(msgInicial, listaConsultas, servicio)\n",
    "                infoCita['servicio']=servicio\n",
    "                mostrarDatos(infoCita, msgconf)\n",
    "                entradaUsuario = input()\n",
    "                respuesta, intencion = chatbot_respuesta(entradaUsuario)\n",
    "                confirmar_datos(intencion,infoCita,servicio,calendar_id)\n",
    "     \n",
    "        \n",
    "    intencion_previa = intencion  \n",
    "    print(respuesta) \n"
   ]
  },
  {
   "cell_type": "markdown",
   "metadata": {},
   "source": []
  }
 ],
 "metadata": {
  "kernelspec": {
   "display_name": "twiliobot",
   "language": "python",
   "name": "python3"
  },
  "language_info": {
   "codemirror_mode": {
    "name": "ipython",
    "version": 3
   },
   "file_extension": ".py",
   "mimetype": "text/x-python",
   "name": "python",
   "nbconvert_exporter": "python",
   "pygments_lexer": "ipython3",
   "version": "3.9.16"
  },
  "orig_nbformat": 4,
  "vscode": {
   "interpreter": {
    "hash": "f958a2f72e83791bcfc676c053c8817c5b6483ad67035fbb3fdc1409553423aa"
   }
  }
 },
 "nbformat": 4,
 "nbformat_minor": 2
}
